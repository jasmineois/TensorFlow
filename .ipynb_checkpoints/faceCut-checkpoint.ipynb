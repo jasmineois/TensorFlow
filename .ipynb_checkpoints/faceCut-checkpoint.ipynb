{
 "cells": [
  {
   "cell_type": "code",
   "execution_count": 61,
   "metadata": {
    "collapsed": false
   },
   "outputs": [
    {
     "name": "stdout",
     "output_type": "stream",
     "text": [
      "ayana0.jpg\n",
      "ayana1.jpg\n",
      "ayana2.jpg\n",
      "hana0.jpg\n",
      "hana1.jpg\n",
      "hana2.jpg\n"
     ]
    }
   ],
   "source": [
    "import cv2\n",
    "from os import path\n",
    "\n",
    "# 定数\n",
    "FACE_PATH = 'ayana1.jpg'\n",
    "FACE_COLOR = (255, 0, 0)\n",
    "IMAGE_SIZE = 112\n",
    "\n",
    "# cascadeファイルをロードする\n",
    "cascades_dir = \"python/haarcascades/haarcascade_frontalface_alt2.xml\"\n",
    "cascade_f = cv2.CascadeClassifier(cascades_dir)\n",
    "\n",
    "def faceCut(path):\n",
    "    # 画像を読み込む\n",
    "    img = cv2.imread('image/original/' + FACE_PATH)\n",
    "\n",
    "    # グレイスケールに変換\n",
    "    gray = cv2.cvtColor(img, cv2.COLOR_BGR2GRAY)\n",
    "\n",
    "    # 検出して四角で囲む\n",
    "    face = cascade_f.detectMultiScale(gray)\n",
    "    for (x, y, w, h) in face:\n",
    "        cv2.rectangle(img, (x, y), (x + w, y + h), FACE_COLOR, 2)\n",
    "\n",
    "    # 切り抜き\n",
    "    face = img[y:y+h, x:x+h]\n",
    "    face = cv2.resize(face, (IMAGE_SIZE, IMAGE_SIZE))\n",
    "\n",
    "    #認識結果の保存\n",
    "    cv2.imwrite('image/cut/' + FACE_PATH, face)\n",
    "    \n",
    "import os\n",
    "files = os.listdir('./image/original')\n",
    "for file in files:\n",
    "    print(file)\n",
    "    faceCut(file)"
   ]
  }
 ],
 "metadata": {
  "anaconda-cloud": {},
  "kernelspec": {
   "display_name": "Python [conda root]",
   "language": "python",
   "name": "conda-root-py"
  },
  "language_info": {
   "codemirror_mode": {
    "name": "ipython",
    "version": 3
   },
   "file_extension": ".py",
   "mimetype": "text/x-python",
   "name": "python",
   "nbconvert_exporter": "python",
   "pygments_lexer": "ipython3",
   "version": "3.5.2"
  }
 },
 "nbformat": 4,
 "nbformat_minor": 1
}
