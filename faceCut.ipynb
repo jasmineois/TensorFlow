{
 "cells": [
  {
   "cell_type": "code",
   "execution_count": 23,
   "metadata": {
    "collapsed": false
   },
   "outputs": [],
   "source": [
    "import cv2\n",
    "from os import path\n",
    "\n",
    "def faceCut(path, dir, index):\n",
    "    # 定数\n",
    "    FACE_PATH = 'ayana1.jpg'\n",
    "    FACE_COLOR = (255, 0, 0)\n",
    "    IMAGE_SIZE = 112\n",
    "\n",
    "    # cascadeファイルをロードする\n",
    "    cascades_dir = \"python/haarcascades/haarcascade_frontalface_alt2.xml\"\n",
    "    cascade_f = cv2.CascadeClassifier(cascades_dir)\n",
    "    \n",
    "    # 画像を読み込む\n",
    "    img = cv2.imread('./image/original' + '/' + dir + '/' + path)\n",
    "\n",
    "    # グレイスケールに変換\n",
    "    gray = cv2.cvtColor(img, cv2.COLOR_BGR2GRAY)\n",
    "\n",
    "    # 検出して四角で囲む\n",
    "    face = cascade_f.detectMultiScale(gray)\n",
    "    for (x, y, w, h) in face:\n",
    "        cv2.rectangle(img, (x, y), (x + w, y + h), FACE_COLOR, 2)\n",
    "\n",
    "    # 切り抜き\n",
    "    face = img[y:y+h, x:x+h]\n",
    "    face = cv2.resize(face, (IMAGE_SIZE, IMAGE_SIZE))\n",
    "\n",
    "    #認識結果の保存\n",
    "    root, ext = os.path.splitext(path)\n",
    "    cv2.imwrite('image/cut/' + dir + str(index) + ext, face)\n",
    "    \n",
    "    return ('image/cut/' + dir + str(index) + ext)"
   ]
  },
  {
   "cell_type": "code",
   "execution_count": 24,
   "metadata": {
    "collapsed": false
   },
   "outputs": [
    {
     "name": "stdout",
     "output_type": "stream",
     "text": [
      "['ayana', 'hana']\n",
      "---------------------------\n",
      "0 ayana ayana0.jpg\n",
      "1 ayana ayana1.jpg\n",
      "2 ayana ayana2.jpg\n",
      "---------------------------\n",
      "0 hana hana0.jpg\n",
      "1 hana hana1.jpg\n",
      "2 hana hana2.jpg\n"
     ]
    }
   ],
   "source": [
    "import os\n",
    "\n",
    "original_path = './image/original'\n",
    "\n",
    "# テストデータ書き出し用\n",
    "train = open('data/train.txt','w')\n",
    "test = open('data/test.txt','w')\n",
    "\n",
    "# パスの抜き出し\n",
    "files = os.listdir(original_path)\n",
    "files_dir = [f for f in files if os.path.isdir(os.path.join(original_path, f))]\n",
    "print(files_dir)\n",
    "\n",
    "index = 0\n",
    "for n, dir in enumerate(files_dir):\n",
    "    print('---------------------------')\n",
    "    dir_path = original_path + '/' + dir\n",
    "    files = os.listdir(dir_path)\n",
    "    for i, file in  enumerate(files):\n",
    "        print(i, dir, file)\n",
    "        file_path = dir_path + '/' + file\n",
    "        txt = faceCut(file, dir, i)\n",
    "        train.write(txt + ' ' + str(n) + '\\n') #txtに書きだし\n",
    "        if i == 0: test.write(txt + ' ' + str(n) + '\\n') #txtに書きだし\n",
    "        \n",
    "f.close()\n",
    "    "
   ]
  },
  {
   "cell_type": "code",
   "execution_count": null,
   "metadata": {
    "collapsed": true
   },
   "outputs": [],
   "source": []
  },
  {
   "cell_type": "code",
   "execution_count": null,
   "metadata": {
    "collapsed": true
   },
   "outputs": [],
   "source": []
  }
 ],
 "metadata": {
  "anaconda-cloud": {},
  "kernelspec": {
   "display_name": "Python [conda root]",
   "language": "python",
   "name": "conda-root-py"
  },
  "language_info": {
   "codemirror_mode": {
    "name": "ipython",
    "version": 3
   },
   "file_extension": ".py",
   "mimetype": "text/x-python",
   "name": "python",
   "nbconvert_exporter": "python",
   "pygments_lexer": "ipython3",
   "version": "3.5.2"
  }
 },
 "nbformat": 4,
 "nbformat_minor": 1
}
